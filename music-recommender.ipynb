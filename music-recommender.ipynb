{
 "metadata": {
  "language_info": {
   "codemirror_mode": {
    "name": "ipython",
    "version": 3
   },
   "file_extension": ".py",
   "mimetype": "text/x-python",
   "name": "python",
   "nbconvert_exporter": "python",
   "pygments_lexer": "ipython3",
   "version": "3.9.0"
  },
  "orig_nbformat": 2,
  "kernelspec": {
   "name": "python390jvsc74a57bd06fffb2426e3f46597246f417e94b348fb31f3afbd6cbeded884a515402ad2bd8",
   "display_name": "Python 3.9.0  ('venv': venv)"
  },
  "metadata": {
   "interpreter": {
    "hash": "6fffb2426e3f46597246f417e94b348fb31f3afbd6cbeded884a515402ad2bd8"
   }
  }
 },
 "nbformat": 4,
 "nbformat_minor": 2,
 "cells": [
  {
   "cell_type": "code",
   "execution_count": 2,
   "metadata": {},
   "outputs": [],
   "source": [
    "import pandas as pd\n",
    "from sklearn.tree import DecisionTreeClassifier\n",
    "from sklearn.model_selection import train_test_split\n",
    "from sklearn.metrics import accuracy_score\n",
    "from sklearn import tree\n",
    "import joblib\n"
   ]
  },
  {
   "cell_type": "code",
   "execution_count": 6,
   "metadata": {},
   "outputs": [
    {
     "output_type": "execute_result",
     "data": {
      "text/plain": [
       "array(['HipHop', 'Dance'], dtype=object)"
      ]
     },
     "metadata": {},
     "execution_count": 6
    }
   ],
   "source": [
    "music_data = pd.read_csv('music.csv')\n",
    "X= music_data.drop(columns=['genre'])\n",
    "y= music_data['genre']\n",
    "# X_train, X_test, y_train, y_test = train_test_split(X,y, test_size=0.2)\n",
    "model = DecisionTreeClassifier()\n",
    "# model.fit(X_train , y_train)\n",
    "model.fit(X , y)\n",
    "# predictions = model.predict(X_test)\n",
    "# score = accuracy_score(y_test,predictions)\n",
    "# joblib.dump(model,'music-recommender.joblib')\n",
    "# model = joblib.load('music-recommender.joblib')\n",
    "\n",
    "\n",
    "model.predict([[21,1],[24,0]])\n",
    "\n",
    "# tree.export_graphviz(model,out_file='music-recommender.dot',\n",
    "#                     feature_names=['age','gender'],\n",
    "#                     class_names=sorted(y.unique()),\n",
    "#                     label='all',\n",
    "#                     rounded=True,\n",
    "#                     filled=True)"
   ]
  },
  {
   "cell_type": "code",
   "execution_count": null,
   "metadata": {},
   "outputs": [],
   "source": []
  }
 ]
}